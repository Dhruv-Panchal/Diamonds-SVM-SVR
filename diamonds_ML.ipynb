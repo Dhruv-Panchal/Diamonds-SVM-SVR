{
 "cells": [
  {
   "cell_type": "code",
   "execution_count": 20,
   "metadata": {},
   "outputs": [],
   "source": [
    "import pandas as pd\n",
    "import seaborn as sns\n",
    "import matplotlib.pyplot as plt\n",
    "import pickle"
   ]
  },
  {
   "cell_type": "code",
   "execution_count": 2,
   "metadata": {},
   "outputs": [],
   "source": [
    "df = pd.read_csv(\"diamonds.csv\", index_col =0)"
   ]
  },
  {
   "cell_type": "code",
   "execution_count": 3,
   "metadata": {},
   "outputs": [
    {
     "data": {
      "text/plain": [
       "(53940, 10)"
      ]
     },
     "execution_count": 3,
     "metadata": {},
     "output_type": "execute_result"
    }
   ],
   "source": [
    "df.shape"
   ]
  },
  {
   "cell_type": "code",
   "execution_count": 4,
   "metadata": {},
   "outputs": [
    {
     "data": {
      "text/html": [
       "<div>\n",
       "<style scoped>\n",
       "    .dataframe tbody tr th:only-of-type {\n",
       "        vertical-align: middle;\n",
       "    }\n",
       "\n",
       "    .dataframe tbody tr th {\n",
       "        vertical-align: top;\n",
       "    }\n",
       "\n",
       "    .dataframe thead th {\n",
       "        text-align: right;\n",
       "    }\n",
       "</style>\n",
       "<table border=\"1\" class=\"dataframe\">\n",
       "  <thead>\n",
       "    <tr style=\"text-align: right;\">\n",
       "      <th></th>\n",
       "      <th>carat</th>\n",
       "      <th>cut</th>\n",
       "      <th>color</th>\n",
       "      <th>clarity</th>\n",
       "      <th>depth</th>\n",
       "      <th>table</th>\n",
       "      <th>price</th>\n",
       "      <th>x</th>\n",
       "      <th>y</th>\n",
       "      <th>z</th>\n",
       "    </tr>\n",
       "  </thead>\n",
       "  <tbody>\n",
       "    <tr>\n",
       "      <th>1</th>\n",
       "      <td>0.23</td>\n",
       "      <td>Ideal</td>\n",
       "      <td>E</td>\n",
       "      <td>SI2</td>\n",
       "      <td>61.5</td>\n",
       "      <td>55.0</td>\n",
       "      <td>326</td>\n",
       "      <td>3.95</td>\n",
       "      <td>3.98</td>\n",
       "      <td>2.43</td>\n",
       "    </tr>\n",
       "    <tr>\n",
       "      <th>2</th>\n",
       "      <td>0.21</td>\n",
       "      <td>Premium</td>\n",
       "      <td>E</td>\n",
       "      <td>SI1</td>\n",
       "      <td>59.8</td>\n",
       "      <td>61.0</td>\n",
       "      <td>326</td>\n",
       "      <td>3.89</td>\n",
       "      <td>3.84</td>\n",
       "      <td>2.31</td>\n",
       "    </tr>\n",
       "    <tr>\n",
       "      <th>3</th>\n",
       "      <td>0.23</td>\n",
       "      <td>Good</td>\n",
       "      <td>E</td>\n",
       "      <td>VS1</td>\n",
       "      <td>56.9</td>\n",
       "      <td>65.0</td>\n",
       "      <td>327</td>\n",
       "      <td>4.05</td>\n",
       "      <td>4.07</td>\n",
       "      <td>2.31</td>\n",
       "    </tr>\n",
       "    <tr>\n",
       "      <th>4</th>\n",
       "      <td>0.29</td>\n",
       "      <td>Premium</td>\n",
       "      <td>I</td>\n",
       "      <td>VS2</td>\n",
       "      <td>62.4</td>\n",
       "      <td>58.0</td>\n",
       "      <td>334</td>\n",
       "      <td>4.20</td>\n",
       "      <td>4.23</td>\n",
       "      <td>2.63</td>\n",
       "    </tr>\n",
       "    <tr>\n",
       "      <th>5</th>\n",
       "      <td>0.31</td>\n",
       "      <td>Good</td>\n",
       "      <td>J</td>\n",
       "      <td>SI2</td>\n",
       "      <td>63.3</td>\n",
       "      <td>58.0</td>\n",
       "      <td>335</td>\n",
       "      <td>4.34</td>\n",
       "      <td>4.35</td>\n",
       "      <td>2.75</td>\n",
       "    </tr>\n",
       "  </tbody>\n",
       "</table>\n",
       "</div>"
      ],
      "text/plain": [
       "   carat      cut color clarity  depth  table  price     x     y     z\n",
       "1   0.23    Ideal     E     SI2   61.5   55.0    326  3.95  3.98  2.43\n",
       "2   0.21  Premium     E     SI1   59.8   61.0    326  3.89  3.84  2.31\n",
       "3   0.23     Good     E     VS1   56.9   65.0    327  4.05  4.07  2.31\n",
       "4   0.29  Premium     I     VS2   62.4   58.0    334  4.20  4.23  2.63\n",
       "5   0.31     Good     J     SI2   63.3   58.0    335  4.34  4.35  2.75"
      ]
     },
     "execution_count": 4,
     "metadata": {},
     "output_type": "execute_result"
    }
   ],
   "source": [
    "df.head()"
   ]
  },
  {
   "cell_type": "code",
   "execution_count": 5,
   "metadata": {},
   "outputs": [
    {
     "data": {
      "text/plain": [
       "array(['Ideal', 'Premium', 'Good', 'Very Good', 'Fair'], dtype=object)"
      ]
     },
     "execution_count": 5,
     "metadata": {},
     "output_type": "execute_result"
    }
   ],
   "source": [
    "df['cut'].unique()"
   ]
  },
  {
   "cell_type": "code",
   "execution_count": 6,
   "metadata": {},
   "outputs": [],
   "source": [
    "cut_class_dict = {\"Fair\": 1, \"Good\": 2, \"Very Good\": 3, \"Premium\": 4, \"Ideal\": 5}"
   ]
  },
  {
   "cell_type": "code",
   "execution_count": 7,
   "metadata": {},
   "outputs": [
    {
     "data": {
      "text/plain": [
       "array(['SI2', 'SI1', 'VS1', 'VS2', 'VVS2', 'VVS1', 'I1', 'IF'],\n",
       "      dtype=object)"
      ]
     },
     "execution_count": 7,
     "metadata": {},
     "output_type": "execute_result"
    }
   ],
   "source": [
    "df['clarity'].unique()"
   ]
  },
  {
   "cell_type": "code",
   "execution_count": 8,
   "metadata": {},
   "outputs": [
    {
     "data": {
      "text/plain": [
       "array(['E', 'I', 'J', 'H', 'F', 'G', 'D'], dtype=object)"
      ]
     },
     "execution_count": 8,
     "metadata": {},
     "output_type": "execute_result"
    }
   ],
   "source": [
    "df['color'].unique()"
   ]
  },
  {
   "cell_type": "code",
   "execution_count": 9,
   "metadata": {},
   "outputs": [],
   "source": [
    "clarity_dict = {\"I3\": 1, \"I2\": 2, \"I1\": 3, \"SI2\": 4, \"SI1\": 5, \"VS2\": 6, \"VS1\": 7, \"VVS2\": 8, \"VVS1\": 9, \"IF\": 10, \"FL\": 11}\n",
    "color_dict = {\"J\": 1,\"I\": 2,\"H\": 3,\"G\": 4,\"F\": 5,\"E\": 6,\"D\": 7}"
   ]
  },
  {
   "cell_type": "code",
   "execution_count": 10,
   "metadata": {},
   "outputs": [
    {
     "data": {
      "text/html": [
       "<div>\n",
       "<style scoped>\n",
       "    .dataframe tbody tr th:only-of-type {\n",
       "        vertical-align: middle;\n",
       "    }\n",
       "\n",
       "    .dataframe tbody tr th {\n",
       "        vertical-align: top;\n",
       "    }\n",
       "\n",
       "    .dataframe thead th {\n",
       "        text-align: right;\n",
       "    }\n",
       "</style>\n",
       "<table border=\"1\" class=\"dataframe\">\n",
       "  <thead>\n",
       "    <tr style=\"text-align: right;\">\n",
       "      <th></th>\n",
       "      <th>carat</th>\n",
       "      <th>cut</th>\n",
       "      <th>color</th>\n",
       "      <th>clarity</th>\n",
       "      <th>depth</th>\n",
       "      <th>table</th>\n",
       "      <th>price</th>\n",
       "      <th>x</th>\n",
       "      <th>y</th>\n",
       "      <th>z</th>\n",
       "    </tr>\n",
       "  </thead>\n",
       "  <tbody>\n",
       "    <tr>\n",
       "      <th>1</th>\n",
       "      <td>0.23</td>\n",
       "      <td>5</td>\n",
       "      <td>6</td>\n",
       "      <td>4</td>\n",
       "      <td>61.5</td>\n",
       "      <td>55.0</td>\n",
       "      <td>326</td>\n",
       "      <td>3.95</td>\n",
       "      <td>3.98</td>\n",
       "      <td>2.43</td>\n",
       "    </tr>\n",
       "    <tr>\n",
       "      <th>2</th>\n",
       "      <td>0.21</td>\n",
       "      <td>4</td>\n",
       "      <td>6</td>\n",
       "      <td>5</td>\n",
       "      <td>59.8</td>\n",
       "      <td>61.0</td>\n",
       "      <td>326</td>\n",
       "      <td>3.89</td>\n",
       "      <td>3.84</td>\n",
       "      <td>2.31</td>\n",
       "    </tr>\n",
       "    <tr>\n",
       "      <th>3</th>\n",
       "      <td>0.23</td>\n",
       "      <td>2</td>\n",
       "      <td>6</td>\n",
       "      <td>7</td>\n",
       "      <td>56.9</td>\n",
       "      <td>65.0</td>\n",
       "      <td>327</td>\n",
       "      <td>4.05</td>\n",
       "      <td>4.07</td>\n",
       "      <td>2.31</td>\n",
       "    </tr>\n",
       "    <tr>\n",
       "      <th>4</th>\n",
       "      <td>0.29</td>\n",
       "      <td>4</td>\n",
       "      <td>2</td>\n",
       "      <td>6</td>\n",
       "      <td>62.4</td>\n",
       "      <td>58.0</td>\n",
       "      <td>334</td>\n",
       "      <td>4.20</td>\n",
       "      <td>4.23</td>\n",
       "      <td>2.63</td>\n",
       "    </tr>\n",
       "    <tr>\n",
       "      <th>5</th>\n",
       "      <td>0.31</td>\n",
       "      <td>2</td>\n",
       "      <td>1</td>\n",
       "      <td>4</td>\n",
       "      <td>63.3</td>\n",
       "      <td>58.0</td>\n",
       "      <td>335</td>\n",
       "      <td>4.34</td>\n",
       "      <td>4.35</td>\n",
       "      <td>2.75</td>\n",
       "    </tr>\n",
       "  </tbody>\n",
       "</table>\n",
       "</div>"
      ],
      "text/plain": [
       "   carat  cut  color  clarity  depth  table  price     x     y     z\n",
       "1   0.23    5      6        4   61.5   55.0    326  3.95  3.98  2.43\n",
       "2   0.21    4      6        5   59.8   61.0    326  3.89  3.84  2.31\n",
       "3   0.23    2      6        7   56.9   65.0    327  4.05  4.07  2.31\n",
       "4   0.29    4      2        6   62.4   58.0    334  4.20  4.23  2.63\n",
       "5   0.31    2      1        4   63.3   58.0    335  4.34  4.35  2.75"
      ]
     },
     "execution_count": 10,
     "metadata": {},
     "output_type": "execute_result"
    }
   ],
   "source": [
    "df['cut'] = df['cut'].map(cut_class_dict)\n",
    "df['clarity'] = df['clarity'].map(clarity_dict)\n",
    "df['color'] = df['color'].map(color_dict)\n",
    "df.head()"
   ]
  },
  {
   "cell_type": "code",
   "execution_count": 11,
   "metadata": {},
   "outputs": [
    {
     "data": {
      "text/html": [
       "<div>\n",
       "<style scoped>\n",
       "    .dataframe tbody tr th:only-of-type {\n",
       "        vertical-align: middle;\n",
       "    }\n",
       "\n",
       "    .dataframe tbody tr th {\n",
       "        vertical-align: top;\n",
       "    }\n",
       "\n",
       "    .dataframe thead th {\n",
       "        text-align: right;\n",
       "    }\n",
       "</style>\n",
       "<table border=\"1\" class=\"dataframe\">\n",
       "  <thead>\n",
       "    <tr style=\"text-align: right;\">\n",
       "      <th></th>\n",
       "      <th>carat</th>\n",
       "      <th>cut</th>\n",
       "      <th>color</th>\n",
       "      <th>clarity</th>\n",
       "      <th>depth</th>\n",
       "      <th>table</th>\n",
       "      <th>price</th>\n",
       "      <th>x</th>\n",
       "      <th>y</th>\n",
       "      <th>z</th>\n",
       "    </tr>\n",
       "  </thead>\n",
       "  <tbody>\n",
       "    <tr>\n",
       "      <th>carat</th>\n",
       "      <td>1.000000</td>\n",
       "      <td>-0.134967</td>\n",
       "      <td>-0.291437</td>\n",
       "      <td>-0.352841</td>\n",
       "      <td>0.028224</td>\n",
       "      <td>0.181618</td>\n",
       "      <td>0.921591</td>\n",
       "      <td>0.975094</td>\n",
       "      <td>0.951722</td>\n",
       "      <td>0.953387</td>\n",
       "    </tr>\n",
       "    <tr>\n",
       "      <th>cut</th>\n",
       "      <td>-0.134967</td>\n",
       "      <td>1.000000</td>\n",
       "      <td>0.020519</td>\n",
       "      <td>0.189175</td>\n",
       "      <td>-0.218055</td>\n",
       "      <td>-0.433405</td>\n",
       "      <td>-0.053491</td>\n",
       "      <td>-0.125565</td>\n",
       "      <td>-0.121462</td>\n",
       "      <td>-0.149323</td>\n",
       "    </tr>\n",
       "    <tr>\n",
       "      <th>color</th>\n",
       "      <td>-0.291437</td>\n",
       "      <td>0.020519</td>\n",
       "      <td>1.000000</td>\n",
       "      <td>-0.025631</td>\n",
       "      <td>-0.047279</td>\n",
       "      <td>-0.026465</td>\n",
       "      <td>-0.172511</td>\n",
       "      <td>-0.270287</td>\n",
       "      <td>-0.263584</td>\n",
       "      <td>-0.268227</td>\n",
       "    </tr>\n",
       "    <tr>\n",
       "      <th>clarity</th>\n",
       "      <td>-0.352841</td>\n",
       "      <td>0.189175</td>\n",
       "      <td>-0.025631</td>\n",
       "      <td>1.000000</td>\n",
       "      <td>-0.067384</td>\n",
       "      <td>-0.160327</td>\n",
       "      <td>-0.146800</td>\n",
       "      <td>-0.371999</td>\n",
       "      <td>-0.358420</td>\n",
       "      <td>-0.366952</td>\n",
       "    </tr>\n",
       "    <tr>\n",
       "      <th>depth</th>\n",
       "      <td>0.028224</td>\n",
       "      <td>-0.218055</td>\n",
       "      <td>-0.047279</td>\n",
       "      <td>-0.067384</td>\n",
       "      <td>1.000000</td>\n",
       "      <td>-0.295779</td>\n",
       "      <td>-0.010647</td>\n",
       "      <td>-0.025289</td>\n",
       "      <td>-0.029341</td>\n",
       "      <td>0.094924</td>\n",
       "    </tr>\n",
       "    <tr>\n",
       "      <th>table</th>\n",
       "      <td>0.181618</td>\n",
       "      <td>-0.433405</td>\n",
       "      <td>-0.026465</td>\n",
       "      <td>-0.160327</td>\n",
       "      <td>-0.295779</td>\n",
       "      <td>1.000000</td>\n",
       "      <td>0.127134</td>\n",
       "      <td>0.195344</td>\n",
       "      <td>0.183760</td>\n",
       "      <td>0.150929</td>\n",
       "    </tr>\n",
       "    <tr>\n",
       "      <th>price</th>\n",
       "      <td>0.921591</td>\n",
       "      <td>-0.053491</td>\n",
       "      <td>-0.172511</td>\n",
       "      <td>-0.146800</td>\n",
       "      <td>-0.010647</td>\n",
       "      <td>0.127134</td>\n",
       "      <td>1.000000</td>\n",
       "      <td>0.884435</td>\n",
       "      <td>0.865421</td>\n",
       "      <td>0.861249</td>\n",
       "    </tr>\n",
       "    <tr>\n",
       "      <th>x</th>\n",
       "      <td>0.975094</td>\n",
       "      <td>-0.125565</td>\n",
       "      <td>-0.270287</td>\n",
       "      <td>-0.371999</td>\n",
       "      <td>-0.025289</td>\n",
       "      <td>0.195344</td>\n",
       "      <td>0.884435</td>\n",
       "      <td>1.000000</td>\n",
       "      <td>0.974701</td>\n",
       "      <td>0.970772</td>\n",
       "    </tr>\n",
       "    <tr>\n",
       "      <th>y</th>\n",
       "      <td>0.951722</td>\n",
       "      <td>-0.121462</td>\n",
       "      <td>-0.263584</td>\n",
       "      <td>-0.358420</td>\n",
       "      <td>-0.029341</td>\n",
       "      <td>0.183760</td>\n",
       "      <td>0.865421</td>\n",
       "      <td>0.974701</td>\n",
       "      <td>1.000000</td>\n",
       "      <td>0.952006</td>\n",
       "    </tr>\n",
       "    <tr>\n",
       "      <th>z</th>\n",
       "      <td>0.953387</td>\n",
       "      <td>-0.149323</td>\n",
       "      <td>-0.268227</td>\n",
       "      <td>-0.366952</td>\n",
       "      <td>0.094924</td>\n",
       "      <td>0.150929</td>\n",
       "      <td>0.861249</td>\n",
       "      <td>0.970772</td>\n",
       "      <td>0.952006</td>\n",
       "      <td>1.000000</td>\n",
       "    </tr>\n",
       "  </tbody>\n",
       "</table>\n",
       "</div>"
      ],
      "text/plain": [
       "            carat       cut     color   clarity     depth     table     price  \\\n",
       "carat    1.000000 -0.134967 -0.291437 -0.352841  0.028224  0.181618  0.921591   \n",
       "cut     -0.134967  1.000000  0.020519  0.189175 -0.218055 -0.433405 -0.053491   \n",
       "color   -0.291437  0.020519  1.000000 -0.025631 -0.047279 -0.026465 -0.172511   \n",
       "clarity -0.352841  0.189175 -0.025631  1.000000 -0.067384 -0.160327 -0.146800   \n",
       "depth    0.028224 -0.218055 -0.047279 -0.067384  1.000000 -0.295779 -0.010647   \n",
       "table    0.181618 -0.433405 -0.026465 -0.160327 -0.295779  1.000000  0.127134   \n",
       "price    0.921591 -0.053491 -0.172511 -0.146800 -0.010647  0.127134  1.000000   \n",
       "x        0.975094 -0.125565 -0.270287 -0.371999 -0.025289  0.195344  0.884435   \n",
       "y        0.951722 -0.121462 -0.263584 -0.358420 -0.029341  0.183760  0.865421   \n",
       "z        0.953387 -0.149323 -0.268227 -0.366952  0.094924  0.150929  0.861249   \n",
       "\n",
       "                x         y         z  \n",
       "carat    0.975094  0.951722  0.953387  \n",
       "cut     -0.125565 -0.121462 -0.149323  \n",
       "color   -0.270287 -0.263584 -0.268227  \n",
       "clarity -0.371999 -0.358420 -0.366952  \n",
       "depth   -0.025289 -0.029341  0.094924  \n",
       "table    0.195344  0.183760  0.150929  \n",
       "price    0.884435  0.865421  0.861249  \n",
       "x        1.000000  0.974701  0.970772  \n",
       "y        0.974701  1.000000  0.952006  \n",
       "z        0.970772  0.952006  1.000000  "
      ]
     },
     "execution_count": 11,
     "metadata": {},
     "output_type": "execute_result"
    }
   ],
   "source": [
    "corrMatrix = df.corr()\n",
    "corrMatrix"
   ]
  },
  {
   "cell_type": "code",
   "execution_count": 12,
   "metadata": {},
   "outputs": [
    {
     "data": {
      "text/plain": [
       "<matplotlib.axes._subplots.AxesSubplot at 0x11ff77dd0>"
      ]
     },
     "execution_count": 12,
     "metadata": {},
     "output_type": "execute_result"
    },
    {
     "data": {
      "image/png": "[encoded data removed]",
      "text/plain": [
       "<Figure size 864x720 with 2 Axes>"
      ]
     },
     "metadata": {
      "needs_background": "light"
     },
     "output_type": "display_data"
    }
   ],
   "source": [
    "plt.figure(figsize = (12,10))\n",
    "sns.heatmap(corrMatrix, annot=True)"
   ]
  },
  {
   "cell_type": "code",
   "execution_count": 13,
   "metadata": {},
   "outputs": [
    {
     "data": {
      "text/plain": [
       "SVR(C=1.0, cache_size=200, coef0=0.0, degree=3, epsilon=0.1, gamma='scale',\n",
       "    kernel='linear', max_iter=-1, shrinking=True, tol=0.001, verbose=False)"
      ]
     },
     "execution_count": 13,
     "metadata": {},
     "output_type": "execute_result"
    }
   ],
   "source": [
    "import sklearn\n",
    "from sklearn import svm, preprocessing\n",
    "\n",
    "df = sklearn.utils.shuffle(df)\n",
    "\n",
    "X=df.drop('price', axis = 1).values\n",
    "X = preprocessing.scale(X)\n",
    "y=df['price'].values\n",
    "\n",
    "test_size = 200\n",
    "\n",
    "X_train = X[:-test_size]\n",
    "y_train = y[:-test_size]\n",
    "\n",
    "X_test = X[-test_size:]\n",
    "y_test = y[-test_size:]\n",
    "\n",
    "clf_lin = svm.SVR(kernel = 'linear')\n",
    "clf_lin.fit(X_train, y_train)  "
   ]
  },
  {
   "cell_type": "code",
   "execution_count": 14,
   "metadata": {},
   "outputs": [
    {
     "data": {
      "text/plain": [
       "0.853327586688399"
      ]
     },
     "execution_count": 14,
     "metadata": {},
     "output_type": "execute_result"
    }
   ],
   "source": [
    "clf_lin.score(X_test, y_test)"
   ]
  },
  {
   "cell_type": "code",
   "execution_count": 16,
   "metadata": {
    "scrolled": true
   },
   "outputs": [
    {
     "name": "stdout",
     "output_type": "stream",
     "text": [
      "Model:[1593.96055083], Actual:1263\n",
      "Model:[3371.71069509], Actual:3710\n",
      "Model:[5928.91894955], Actual:7821\n",
      "Model:[7482.34321872], Actual:4704\n",
      "Model:[3704.49621015], Actual:3447\n",
      "Model:[3475.48203945], Actual:3612\n",
      "Model:[3348.66659632], Actual:3362\n",
      "Model:[1487.36755257], Actual:1250\n",
      "Model:[1111.05364949], Actual:911\n",
      "Model:[248.87354844], Actual:645\n",
      "Model:[5321.93850152], Actual:4854\n",
      "Model:[8413.5138192], Actual:9494\n",
      "Model:[1133.64493075], Actual:853\n",
      "Model:[2842.61156562], Actual:3321\n",
      "Model:[4773.15578348], Actual:5057\n",
      "Model:[6399.94958014], Actual:10453\n",
      "Model:[6419.97970326], Actual:10515\n",
      "Model:[375.54586309], Actual:702\n",
      "Model:[5663.57602222], Actual:8532\n",
      "Model:[4392.6916494], Actual:4212\n",
      "Model:[3347.14587816], Actual:3041\n",
      "Model:[10445.55833684], Actual:18430\n",
      "Model:[4697.33010724], Actual:3861\n",
      "Model:[3972.87914755], Actual:4244\n",
      "Model:[2190.13646118], Actual:2051\n",
      "Model:[305.97941374], Actual:605\n",
      "Model:[4438.50926469], Actual:4429\n",
      "Model:[407.87579342], Actual:810\n",
      "Model:[4244.59136096], Actual:4324\n",
      "Model:[341.6079108], Actual:615\n",
      "Model:[8420.46215852], Actual:11128\n",
      "Model:[1484.41793485], Actual:1412\n",
      "Model:[-95.17074598], Actual:491\n",
      "Model:[3799.68970427], Actual:3154\n",
      "Model:[14087.95766196], Actual:10716\n",
      "Model:[1649.09230217], Actual:1776\n",
      "Model:[3929.25381321], Actual:4241\n",
      "Model:[1320.35279395], Actual:1266\n",
      "Model:[1489.9384717], Actual:1385\n",
      "Model:[11264.34219651], Actual:9549\n",
      "Model:[1121.54270654], Actual:748\n",
      "Model:[2116.62747735], Actual:1993\n",
      "Model:[360.54327265], Actual:851\n",
      "Model:[312.34568972], Actual:658\n",
      "Model:[4433.46693966], Actual:4194\n",
      "Model:[8562.97084048], Actual:12872\n",
      "Model:[1441.93322378], Actual:1033\n",
      "Model:[1131.92761176], Actual:1098\n",
      "Model:[575.07127278], Actual:746\n",
      "Model:[666.31312203], Actual:665\n",
      "Model:[12697.41616445], Actual:12458\n",
      "Model:[6071.55905271], Actual:9082\n",
      "Model:[3071.52155033], Actual:2872\n",
      "Model:[4517.6582374], Actual:4798\n",
      "Model:[4049.85819167], Actual:3931\n",
      "Model:[5484.51316449], Actual:5384\n",
      "Model:[4266.06063751], Actual:3395\n",
      "Model:[5423.99565128], Actual:6868\n",
      "Model:[8527.81815839], Actual:9539\n",
      "Model:[2710.62296617], Actual:2247\n",
      "Model:[8687.4231223], Actual:10339\n",
      "Model:[6243.41037018], Actual:4758\n",
      "Model:[541.99493546], Actual:759\n",
      "Model:[4516.21480006], Actual:3877\n",
      "Model:[362.05080187], Actual:589\n",
      "Model:[1647.25616751], Actual:1239\n",
      "Model:[2184.71162646], Actual:1914\n",
      "Model:[4878.05531987], Actual:5132\n",
      "Model:[1243.71073218], Actual:1213\n",
      "Model:[1831.03762489], Actual:4368\n",
      "Model:[8483.3691635], Actual:11154\n",
      "Model:[14603.97892019], Actual:16789\n",
      "Model:[152.3186143], Actual:516\n",
      "Model:[3848.01540485], Actual:2896\n",
      "Model:[1995.71983436], Actual:1928\n",
      "Model:[3859.16761328], Actual:3664\n",
      "Model:[12372.3617749], Actual:13844\n",
      "Model:[3079.32667259], Actual:2726\n",
      "Model:[4195.79759148], Actual:4165\n",
      "Model:[1907.93029023], Actual:1305\n",
      "Model:[3072.44670214], Actual:2737\n",
      "Model:[8753.04609312], Actual:8001\n",
      "Model:[3.60345279], Actual:605\n",
      "Model:[5063.71522182], Actual:5443\n",
      "Model:[4711.9069668], Actual:4800\n",
      "Model:[1231.20548823], Actual:1021\n",
      "Model:[745.84237878], Actual:882\n",
      "Model:[868.2565166], Actual:1125\n",
      "Model:[2612.64746454], Actual:2215\n",
      "Model:[5453.39239256], Actual:4586\n",
      "Model:[1884.88860757], Actual:1047\n",
      "Model:[5693.29709918], Actual:7812\n",
      "Model:[2938.93398198], Actual:2646\n",
      "Model:[-391.04135148], Actual:523\n",
      "Model:[640.85720417], Actual:707\n",
      "Model:[9003.0534816], Actual:14482\n",
      "Model:[3314.06512935], Actual:2870\n",
      "Model:[4947.95169167], Actual:5241\n",
      "Model:[3052.79282207], Actual:3001\n",
      "Model:[283.56369233], Actual:555\n",
      "Model:[8117.33946249], Actual:11793\n",
      "Model:[-114.23239795], Actual:603\n",
      "Model:[1496.18725955], Actual:1247\n",
      "Model:[4299.18052986], Actual:3997\n",
      "Model:[4906.7191453], Actual:4899\n",
      "Model:[6070.60432234], Actual:6323\n",
      "Model:[1808.85202948], Actual:1614\n",
      "Model:[1550.31392411], Actual:1316\n",
      "Model:[5557.8842183], Actual:6797\n",
      "Model:[2543.55140485], Actual:2624\n",
      "Model:[12408.92355215], Actual:17294\n",
      "Model:[1978.80124521], Actual:1707\n",
      "Model:[2205.01239593], Actual:1942\n",
      "Model:[3634.72271361], Actual:3787\n",
      "Model:[1678.75134599], Actual:1142\n",
      "Model:[1454.17810532], Actual:1436\n",
      "Model:[1417.37049224], Actual:1131\n",
      "Model:[6458.67225793], Actual:10487\n",
      "Model:[6474.71359566], Actual:7996\n",
      "Model:[4881.85949036], Actual:5379\n",
      "Model:[579.22455756], Actual:855\n",
      "Model:[4761.78507021], Actual:4964\n",
      "Model:[1476.18987109], Actual:1444\n",
      "Model:[817.07364571], Actual:969\n",
      "Model:[1444.322356], Actual:1001\n",
      "Model:[365.09045834], Actual:575\n",
      "Model:[932.52753732], Actual:850\n",
      "Model:[3068.72372469], Actual:2533\n",
      "Model:[1138.52269062], Actual:838\n",
      "Model:[2603.18325121], Actual:2426\n",
      "Model:[1303.97781306], Actual:1014\n",
      "Model:[1071.57241742], Actual:668\n",
      "Model:[2120.38665254], Actual:1625\n",
      "Model:[5510.67493749], Actual:7485\n",
      "Model:[11837.96878244], Actual:12717\n",
      "Model:[2146.04816074], Actual:1741\n",
      "Model:[736.99421053], Actual:720\n",
      "Model:[3076.54165692], Actual:2433\n",
      "Model:[1046.91575685], Actual:810\n",
      "Model:[6578.79881316], Actual:7555\n",
      "Model:[6719.45892993], Actual:5768\n",
      "Model:[1250.36933389], Actual:1306\n",
      "Model:[1820.78442289], Actual:1662\n",
      "Model:[2226.53417985], Actual:2119\n",
      "Model:[6163.76278034], Actual:4516\n",
      "Model:[3798.31360958], Actual:3000\n",
      "Model:[624.15327994], Actual:827\n",
      "Model:[1099.5581262], Actual:1129\n",
      "Model:[6520.45140987], Actual:5546\n",
      "Model:[5263.31158765], Actual:4354\n",
      "Model:[1371.02993876], Actual:1340\n",
      "Model:[3342.74623471], Actual:3161\n",
      "Model:[9958.36701683], Actual:11138\n",
      "Model:[560.89622817], Actual:617\n",
      "Model:[329.70472234], Actual:552\n",
      "Model:[1168.94256081], Actual:982\n",
      "Model:[2452.18766986], Actual:1957\n",
      "Model:[1007.10262927], Actual:790\n",
      "Model:[822.33774129], Actual:694\n",
      "Model:[3280.40971476], Actual:3615\n",
      "Model:[9445.05463105], Actual:11864\n",
      "Model:[5341.65686422], Actual:7336\n",
      "Model:[8402.86154272], Actual:11153\n",
      "Model:[3624.95719614], Actual:3398\n",
      "Model:[-117.36008826], Actual:466\n",
      "Model:[3564.38910243], Actual:2946\n",
      "Model:[-2.64578317], Actual:526\n",
      "Model:[1451.79322907], Actual:1343\n",
      "Model:[3256.72650078], Actual:3083\n",
      "Model:[1782.41019816], Actual:1753\n",
      "Model:[4451.76835955], Actual:4418\n",
      "Model:[1555.30713648], Actual:988\n",
      "Model:[463.56400283], Actual:499\n",
      "Model:[3206.31445026], Actual:2749\n",
      "Model:[995.89643741], Actual:899\n",
      "Model:[5487.59650002], Actual:5351\n",
      "Model:[939.58763488], Actual:811\n",
      "Model:[348.33581703], Actual:571\n",
      "Model:[6200.60923677], Actual:7404\n",
      "Model:[9694.24830235], Actual:17773\n",
      "Model:[490.68867627], Actual:742\n",
      "Model:[2788.14011662], Actual:2809\n",
      "Model:[3664.11288068], Actual:3536\n",
      "Model:[6134.86637163], Actual:8957\n",
      "Model:[248.99538364], Actual:765\n",
      "Model:[5130.24471164], Actual:3690\n",
      "Model:[6569.03596486], Actual:10316\n",
      "Model:[1308.41974037], Actual:921\n",
      "Model:[921.05653568], Actual:926\n",
      "Model:[8177.55132852], Actual:7797\n",
      "Model:[4928.48841553], Actual:4401\n",
      "Model:[3716.20260127], Actual:3990\n",
      "Model:[386.34361832], Actual:702\n",
      "Model:[5034.34826504], Actual:5616\n",
      "Model:[577.16660886], Actual:612\n",
      "Model:[4386.50136426], Actual:4318\n",
      "Model:[2724.91776912], Actual:2458\n",
      "Model:[1.73671836], Actual:605\n",
      "Model:[3041.38786945], Actual:1981\n",
      "Model:[1743.39369777], Actual:1422\n"
     ]
    }
   ],
   "source": [
    "for X,y in zip(X_test, y_test):\n",
    "    print(f\"Model:{clf_lin.predict([X])}, Actual:{y}\")"
   ]
  },
  {
   "cell_type": "code",
   "execution_count": 17,
   "metadata": {},
   "outputs": [],
   "source": [
    "new_data = [ 0.50053893,  0.05588908, -0.33855468, -4.24521508, -0.27409151,\n",
    "        0.29046181,  0.99043234,  0.93657639,  0.33785273]"
   ]
  },
  {
   "cell_type": "code",
   "execution_count": 18,
   "metadata": {},
   "outputs": [
    {
     "data": {
      "text/plain": [
       "array([3357.25515385])"
      ]
     },
     "execution_count": 18,
     "metadata": {},
     "output_type": "execute_result"
    }
   ],
   "source": [
    "clf_lin.predict([new_data])"
   ]
  },
  {
   "cell_type": "code",
   "execution_count": 22,
   "metadata": {},
   "outputs": [
    {
     "name": "stdout",
     "output_type": "stream",
     "text": [
      "[3357.25515385]\n"
     ]
    }
   ],
   "source": [
    "filename = 'diamondsmodel.sav'\n",
    "pickle.dump(clf_lin, open(filename, 'wb'))\n",
    "\n",
    "loaded_model = pickle.load(open(filename, 'rb'))\n",
    "result = loaded_model.predict([new_data])\n",
    "print(result)"
   ]
  },
  {
   "cell_type": "raw",
   "metadata": {},
   "source": [
    "clf_rbf = svm.SVR(kernel=\"rbf\")\n",
    "clf_rbf.fit(X_train, y_train)"
   ]
  },
  {
   "cell_type": "raw",
   "metadata": {},
   "source": [
    "print (clf_rbf.score(X_test, y_test))\n",
    "\n",
    "for X,y in zip(X_test, y_test):\n",
    "    print(f\"Model:{clf.predict([X])}, Actual:{y}\")"
   ]
  },
  {
   "cell_type": "raw",
   "metadata": {},
   "source": [
    "clf_rbf.predict([new_data])"
   ]
  }
 ],
 "metadata": {
  "kernelspec": {
   "display_name": "Python 3",
   "language": "python",
   "name": "python3"
  },
  "language_info": {
   "codemirror_mode": {
    "name": "ipython",
    "version": 3
   },
   "file_extension": ".py",
   "mimetype": "text/x-python",
   "name": "python",
   "nbconvert_exporter": "python",
   "pygments_lexer": "ipython3",
   "version": "3.7.4"
  }
 },
 "nbformat": 4,
 "nbformat_minor": 2
}
